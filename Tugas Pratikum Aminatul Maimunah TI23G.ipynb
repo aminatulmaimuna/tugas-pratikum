{
 "cells": [
  {
   "cell_type": "markdown",
   "id": "374689cf",
   "metadata": {},
   "source": [
    "<h1>1 Kondisi<h1>"
   ]
  },
  {
   "cell_type": "code",
   "execution_count": 1,
   "id": "562ea43f",
   "metadata": {},
   "outputs": [
    {
     "name": "stdout",
     "output_type": "stream",
     "text": [
      "dingin\n",
      "hari ini cerah\n"
     ]
    }
   ],
   "source": [
    "cuaca = \"hujan\"\n",
    "if cuaca == \"hujan\":\n",
    "    print(\"dingin\")\n",
    "    print(\"hari ini cerah\")"
   ]
  },
  {
   "cell_type": "markdown",
   "id": "cb8d178e",
   "metadata": {},
   "source": [
    "<h1>2 Kondisi<h1>\n",
    "\n"
   ]
  },
  {
   "cell_type": "code",
   "execution_count": 3,
   "id": "d6545aea",
   "metadata": {},
   "outputs": [
    {
     "name": "stdout",
     "output_type": "stream",
     "text": [
      "9 adalah bilangan ganjil\n"
     ]
    }
   ],
   "source": [
    "nilai = 9\n",
    "sisa_bagi = nilai % 2\n",
    "if sisa_bagi ==0:\n",
    "  print(f\"{nilai} adalah bilangan genap\")\n",
    "else :\n",
    "    print(f\"{nilai} adalah bilangan ganjil\")"
   ]
  },
  {
   "cell_type": "markdown",
   "id": "4dbb3abb",
   "metadata": {},
   "source": [
    "<h1>Lebih Dari 2 Kondisi<h1>\n",
    "    \n",
    "    "
   ]
  },
  {
   "cell_type": "code",
   "execution_count": 10,
   "id": "2d9b34fa",
   "metadata": {},
   "outputs": [
    {
     "name": "stdout",
     "output_type": "stream",
     "text": [
      "isikan nilai pemograman-25\n",
      "input salah\n"
     ]
    }
   ],
   "source": [
    "nilai = int(input('isikan nilai pemograman'))\n",
    "if nilai >=0 and nilai <=100:\n",
    "    if nilai <=49:\n",
    "        print(f\"{nilai} = E\")\n",
    "    elif nilai <=59:\n",
    "        print(f\"{nilai} D\")\n",
    "    elif nilai <=69:\n",
    "        print(f\"{nilai} C\")\n",
    "    elif nilai <=84:\n",
    "        print(f\"{nilai} B\")\n",
    "    elif nilai <=100:\n",
    "        print(f\"{nilai} A\")\n",
    "else :\n",
    "    print(\"input salah\")"
   ]
  },
  {
   "cell_type": "markdown",
   "id": "c5fbab1d",
   "metadata": {},
   "source": [
    "<h1>user dan pw<h1>"
   ]
  },
  {
   "cell_type": "code",
   "execution_count": 25,
   "id": "898ebfd1",
   "metadata": {},
   "outputs": [
    {
     "name": "stdout",
     "output_type": "stream",
     "text": [
      "masukan username ami\n",
      "masukan password amina\n",
      "Username dan Password anda Salah\n"
     ]
    }
   ],
   "source": [
    "username = input('masukan username ')\n",
    "password = input('masukan password ')\n",
    "\n",
    "if username == 'admin' :\n",
    "    if password == 'admin' :\n",
    "        print(f'Selamat Datang {usename}')        \n",
    "else:\n",
    "    if password == 'admin' :\n",
    "        print('username anda salah')\n",
    "    else:\n",
    "        print('Username dan Password anda Salah')\n",
    "        "
   ]
  },
  {
   "cell_type": "markdown",
   "id": "ff7693ac",
   "metadata": {},
   "source": [
    "<h1> Mafia<h1>"
   ]
  },
  {
   "cell_type": "code",
   "execution_count": 36,
   "id": "884fe94d",
   "metadata": {},
   "outputs": [
    {
     "name": "stdout",
     "output_type": "stream",
     "text": [
      "Insert name : aminatul maimunah al amalah\n",
      "Insert age : 42\n",
      "Insert adress : Nevada\n",
      "Insert dolloar : 1000000\n",
      "aminatul maimunah al amalah tidak mencurigakan\n"
     ]
    }
   ],
   "source": [
    "name = input(\"Insert name : \")\n",
    "age = int(input(\"Insert age : \"))\n",
    "address = input(\"Insert adress : \")\n",
    "dollar = int(input(\"Insert dolloar : \"))\n",
    "\n",
    "pangkat = ''\n",
    "\n",
    "if age >40:\n",
    "    if address == \"Nevada\" or adress == \"New York\" or adress == \"Havana\":\n",
    "        if dollar >10000000:\n",
    "            pangkat = 'Don'\n",
    "elif age >=25 and age <=40:\n",
    "    if adress== \"New Jersey\" or adress== \"Manhattan\" or adress== \"Nevada\":\n",
    "        pangkat = 'Underboss'\n",
    "elif age >= 18 and age <=24:\n",
    "    if adress == \"California\" or adress== \"Detriot\" or adress== \"Boston\":\n",
    "        if dollar <1000000:\n",
    "            pangkat = 'capo'\n",
    "if pangkat !='':\n",
    "    print (f\"{name} kemungkinan adalah seorang anggota mafia dengan pangkat {pangkat}\")\n",
    "else:\n",
    "    print(f\"{name} tidak mencurigakan\")"
   ]
  }
 ],
 "metadata": {
  "kernelspec": {
   "display_name": "Python 3 (ipykernel)",
   "language": "python",
   "name": "python3"
  },
  "language_info": {
   "codemirror_mode": {
    "name": "ipython",
    "version": 3
   },
   "file_extension": ".py",
   "mimetype": "text/x-python",
   "name": "python",
   "nbconvert_exporter": "python",
   "pygments_lexer": "ipython3",
   "version": "3.9.12"
  }
 },
 "nbformat": 4,
 "nbformat_minor": 5
}
